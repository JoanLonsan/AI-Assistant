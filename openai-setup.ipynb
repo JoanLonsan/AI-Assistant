{
 "cells": [
  {
   "cell_type": "markdown",
   "id": "3ed41da7",
   "metadata": {},
   "source": [
    "## Getting started with OpenAI"
   ]
  },
  {
   "cell_type": "markdown",
   "id": "c2939b46",
   "metadata": {},
   "source": [
    "### Create a developer account with OpenAI\n",
    "\n",
    "1. Go to the [API signup page](https://platform.openai.com/signup). \n",
    "\n",
    "2. Create your account (you'll need to provide your email address and your phone number).\n",
    "\n",
    "<img src=\"images/openai-create-account.png\" alt=\"OpenAI account creation form\" width=\"200\">\n",
    "\n",
    "3. Go to the [API keys page](https://platform.openai.com/account/api-keys). \n",
    "\n",
    "4. Create a new secret key.\n",
    "\n",
    "<img src=\"images/openai-new-secret-key.png\" alt=\"OpenAI new secret key button\" width=\"200\">\n",
    "\n",
    "5. **Take a copy of it**. (If you lose it, delete the key and create a new one.)|"
   ]
  },
  {
   "cell_type": "markdown",
   "id": "a4e217a0",
   "metadata": {},
   "source": [
    "### Add a payment method\n",
    "\n",
    "OpenAI sometimes provides free credits for the API, but it's not clear if that is worldwide or what the conditions are. You may need to add debit/credit card details. \n",
    "\n",
    "**The API costs [$0.002 / 1000 tokens](https://openai.com/pricing) for GPT-3.5-turbo. [1000 tokens is about 750 words](https://help.openai.com/en/articles/4936856-what-are-tokens-and-how-to-count-them). Today's session should cost less than 2 US cents (but if you rerun tasks, you will be charged every time).**\n",
    "\n",
    "1. Go to the [Payment Methods page](https://platform.openai.com/account/billing/payment-methods).\n",
    "\n",
    "2. Click Add payment method.\n",
    "\n",
    "<img src=\"images/openai-add-payment-method.png\" width=\"200\">\n",
    "\n",
    "3. Fill in your card details."
   ]
  },
  {
   "cell_type": "markdown",
   "id": "4df942d2",
   "metadata": {},
   "source": [
    "## Setting up DataLab"
   ]
  },
  {
   "cell_type": "markdown",
   "id": "73dac22a",
   "metadata": {},
   "source": [
    "### Adding Environment variables to DataLab\n",
    "\n",
    "1. In the top menu, click on \"Environment\", then on \"Environment variables...\".\n",
    "\n",
    "<img src=\"images/datalab-environment.png\" alt=\"DataLab menu with Environment variables item highlighted\" width=\"500\">\n",
    "\n",
    "2. Click on the \"Add\" button.\n",
    "\n",
    "3. Fill out the name and value fields as follows.\n",
    "\n",
    "    | Name              | Value             |\n",
    "    |-------------------|-------------------|\n",
    "    | OPENAI_API_KEY    | _your secret key_ |\n",
    "    \n",
    "    The \"Environment Variables Set Name\" can for example be set to \"OpenAI\".\n",
    "\n",
    "<img src=\"images/datalab-environment-variables.png\" alt=\"DataLab environment variables configuration modal\" width=\"500\">\n",
    "\n",
    "4. Click the \"Create Environment Variables\" button, and then connect the environment variables after click \"Next\".\n",
    "\n",
    "<img src=\"images/datalab-connect-environment-variables.png\" alt=\"Connect environment variables modal\" width=500 />"
   ]
  },
  {
   "cell_type": "markdown",
   "id": "a7765c28",
   "metadata": {},
   "source": []
  },
  {
   "cell_type": "markdown",
   "id": "cec5933c",
   "metadata": {},
   "source": []
  }
 ],
 "metadata": {
  "language_info": {
   "name": "python"
  }
 },
 "nbformat": 4,
 "nbformat_minor": 5
}
